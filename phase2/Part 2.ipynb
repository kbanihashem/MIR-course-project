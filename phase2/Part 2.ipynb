{
 "cells": [
  {
   "cell_type": "code",
   "execution_count": 1,
   "metadata": {},
   "outputs": [],
   "source": [
    "from corpus import Corpus\n",
    "import numpy as np\n",
    "import matplotlib.pyplot as plt\n",
    "from time import time"
   ]
  },
  {
   "cell_type": "code",
   "execution_count": 2,
   "metadata": {},
   "outputs": [],
   "source": [
    "corpus = Corpus.from_file('data/train.json')"
   ]
  },
  {
   "cell_type": "code",
   "execution_count": 3,
   "metadata": {},
   "outputs": [],
   "source": [
    "corpus.build_vectors()\n",
    "corpus.build_np_vecs()"
   ]
  },
  {
   "cell_type": "code",
   "execution_count": 4,
   "metadata": {},
   "outputs": [
    {
     "name": "stdout",
     "output_type": "stream",
     "text": [
      "[3621 5976 5933 5591 2921  382 1081 4879 5999  875 3287 2388 2452 4030\n",
      " 2548 4374 4301 5852 2694 4078 3468 4449 4982 1472 5027 4753 1664 4519\n",
      " 4021 5130  386 4531 3000 5847 1336 5680 1542 1399 2212 4746  579   92\n",
      "  645 3098 1307 4097 1379 1437 3400 3013 1497  988 4475 4706 2406 1324\n",
      "  828 5416 4996  649 5640 3547 4127 1289 5323  433 3557 4058 5634 3242\n",
      " 3259 2033  661  573 2094 5375 1703  731 5697 1621 5932  236 5082 2326\n",
      "  813 3290 3891 3600  230  835  267 1449 5866 4387 2532 4343 2732 2979\n",
      " 1479 3055 4539 3602 5089 4752  509 3650 1492 5280 2268 4990 4268 4026\n",
      " 4548 3536 3344 2940 3329 1858 1491 1421 1996 4245 4971 5953  796 2074\n",
      " 1070 1992 3322 3363 5602 5645 2340 3898  674 1495  390 1229  491 2218\n",
      " 4504   50 4284 3437 3737 4797 1631 3880 4286 1117 1278 5743  205 5828\n",
      " 1693 2564 4038 4709 5460 5165 4204  735 5513 5135 4839 5452 3849  600\n",
      "  952 4914 1121 4561 1410 5232 2606 3668  841  277  327 1543 1685 3381\n",
      " 4719 4052 3755 4261   34 5202 4987 2788 4307 5181 1524 4165 2350   17\n",
      " 4220 3025  818 1282 5837  415 4861 1608  295 2656 3024 2700 3643 1441\n",
      " 5934 4713 1444 1772 1803 1748 1984 4563 3772 3703 2379 1026 1250 5558\n",
      " 3269  575 4907 3819 4509 2038 4330  883 1435  260 2448  368 2067 3459\n",
      " 4408 5191  357 1548  380 1084 1926 1849 3584 3963 2108 2506 3592 4348\n",
      " 5033  969 5857 3435 4494 2895 3190 3153 1178  389  675 5246 2025  705\n",
      " 3114 5807 1745 3539 3921 2758 3574 2981  862 2923  935  638 3371  588\n",
      " 1275 3894 4995 5486 4711 4678 4567 5406 2554 3094 1456 5642 1635 5242\n",
      " 2901 4919  351 2449 2600   80 2749 4858 4885 5921   15 4742 3890  770\n",
      "  481 5607 5340 2292 3599 5747  280 3164 1805 5087 2453 4043 3280 3937\n",
      " 3112  172 2359 2006 1623 4616 3660 3061 5015 2927 1297 3048 4116 5161\n",
      " 5499 4385 2662 4482 3680 4820 2045 1877 1827 2565 4491 5423 1677  252\n",
      " 5286  360 1102 5830 4669 4452 5095 3808 5113 4574 3353 3633 2593 3917\n",
      " 1209 3886 3631  778 2502 2932 3775 1189 1465 2085  896 2120  546 5998\n",
      " 1879 5083  378 5798 2957 2838  539 5551  980 1375  221 1279 4314 3402\n",
      " 4084 4708 2287 1176 3418 1301 5545 1494]\n",
      "[3 3 0 ... 3 3 0]\n"
     ]
    }
   ],
   "source": [
    "np.random.seed(78)\n",
    "limit = 6000\n",
    "category_docs = [[] for _ in range(4)]\n",
    "for i, doc in enumerate(corpus.docs[:limit]):\n",
    "    category_docs[doc.int_category].append(i)\n",
    "chosen_ones = []\n",
    "real_labels = []\n",
    "for i in range(4):\n",
    "    chosen_ones.append(np.random.choice(category_docs[i], 100, replace=False))\n",
    "chosen_ones = np.array(chosen_ones, dtype=np.int)\n",
    "all_chosen_ones = chosen_ones.reshape((-1))\n",
    "print(all_chosen_ones)\n",
    "real_labels = np.array([doc.int_category for doc in corpus.docs[:limit]], dtype=np.int)\n",
    "print(real_labels)"
   ]
  },
  {
   "cell_type": "code",
   "execution_count": 5,
   "metadata": {},
   "outputs": [],
   "source": [
    "from kmeans import Kmeans, Shower"
   ]
  },
  {
   "cell_type": "code",
   "execution_count": 6,
   "metadata": {
    "scrolled": false
   },
   "outputs": [],
   "source": [
    "def evaluate_vectors(vecs, limit, verbose=True):\n",
    "    kmeans = Kmeans()\n",
    "    kmeans.set_vectors(vecs[:limit])\n",
    "    kmeans.set_random_centers(seed=90)\n",
    "\n",
    "    shower = Shower()\n",
    "    shower.set_vectors(vecs)\n",
    "    shower.set_indexes(all_chosen_ones)\n",
    "    t0 = time()\n",
    "    shower.fit()\n",
    "    t1 = time()\n",
    "    print(\"fitting time: \", t1 - t0)\n",
    "    for i in range(100):\n",
    "        t0 = time()\n",
    "        if verbose and i % 10 == 0:\n",
    "            shower.set_labels(kmeans.labels)\n",
    "            shower.plot()\n",
    "            plt.show()\n",
    "            shower.set_labels(real_labels)\n",
    "            shower.plot()\n",
    "            plt.show()\n",
    "\n",
    "        old_cost = kmeans.cost_function\n",
    "        kmeans.one_iter()\n",
    "        diff = kmeans.cost_function - old_cost\n",
    "        t1 = time()\n",
    "\n",
    "        print(\"itreation \", i, \"diff = \", diff, \"time = \", t1 - t0)\n",
    "        if abs(diff) < 0.001:\n",
    "            break\n",
    "    print(\"final result: \")\n",
    "    shower.set_labels(kmeans.labels)\n",
    "    shower.plot()\n",
    "    plt.show()\n",
    "    shower.set_labels(real_labels)\n",
    "    shower.plot()\n",
    "    plt.show()"
   ]
  },
  {
   "cell_type": "code",
   "execution_count": 6,
   "metadata": {},
   "outputs": [
    {
     "ename": "NameError",
     "evalue": "name 'evaluate_vectors' is not defined",
     "output_type": "error",
     "traceback": [
      "\u001b[0;31m---------------------------------------------------------------------------\u001b[0m",
      "\u001b[0;31mNameError\u001b[0m                                 Traceback (most recent call last)",
      "\u001b[0;32m<ipython-input-6-9f1de76c86fd>\u001b[0m in \u001b[0;36m<module>\u001b[0;34m\u001b[0m\n\u001b[0;32m----> 1\u001b[0;31m \u001b[0mevaluate_vectors\u001b[0m\u001b[0;34m(\u001b[0m\u001b[0mcorpus\u001b[0m\u001b[0;34m.\u001b[0m\u001b[0mnp_vecs\u001b[0m\u001b[0;34m,\u001b[0m \u001b[0mlimit\u001b[0m\u001b[0;34m=\u001b[0m\u001b[0mlimit\u001b[0m\u001b[0;34m)\u001b[0m\u001b[0;34m\u001b[0m\u001b[0;34m\u001b[0m\u001b[0m\n\u001b[0m",
      "\u001b[0;31mNameError\u001b[0m: name 'evaluate_vectors' is not defined"
     ]
    }
   ],
   "source": [
    "evaluate_vectors(corpus.np_vecs, limit=limit)"
   ]
  },
  {
   "cell_type": "markdown",
   "metadata": {},
   "source": [
    "# Word2vec"
   ]
  },
  {
   "cell_type": "code",
   "execution_count": 7,
   "metadata": {},
   "outputs": [],
   "source": [
    "from corpus import Corpus\n",
    "import numpy as np\n",
    "import matplotlib.pyplot as plt\n",
    "from time import time\n",
    "import gensim.models"
   ]
  },
  {
   "cell_type": "code",
   "execution_count": 8,
   "metadata": {},
   "outputs": [],
   "source": [
    "corpus = Corpus.from_file('data/train.json')"
   ]
  },
  {
   "cell_type": "code",
   "execution_count": 9,
   "metadata": {},
   "outputs": [],
   "source": [
    "def one_doc_to_vec(doc, model):\n",
    "    return np.array(list(map(lambda i: model.wv[corpus.num_to_word[i]], doc.word_iterator))).mean(axis=0)"
   ]
  },
  {
   "cell_type": "code",
   "execution_count": 12,
   "metadata": {},
   "outputs": [
    {
     "name": "stdout",
     "output_type": "stream",
     "text": [
      "100 5\n",
      "+++++++++++++++++++++++++\n",
      "fitting time:  2.5280869007110596\n",
      "itreation  0 diff =  -118.04973 time =  0.007370948791503906\n",
      "itreation  1 diff =  -19.320015 time =  0.004787921905517578\n",
      "itreation  2 diff =  -7.675354 time =  0.004622697830200195\n",
      "itreation  3 diff =  -3.6996384 time =  0.00457000732421875\n",
      "itreation  4 diff =  -1.5214157 time =  0.005050182342529297\n",
      "itreation  5 diff =  -0.5345688 time =  0.005179166793823242\n",
      "itreation  6 diff =  -0.19776154 time =  0.0051419734954833984\n",
      "itreation  7 diff =  -0.06285858 time =  0.005166769027709961\n",
      "itreation  8 diff =  -0.022598267 time =  0.0049550533294677734\n",
      "itreation  9 diff =  -0.006942749 time =  0.004794120788574219\n",
      "itreation  10 diff =  -0.004348755 time =  0.0053119659423828125\n",
      "itreation  11 diff =  -0.002456665 time =  0.00484466552734375\n",
      "itreation  12 diff =  -0.00020599365 time =  0.004714012145996094\n",
      "final result: \n"
     ]
    },
    {
     "data": {
      "image/png": "[encoded data removed]",
      "text/plain": [
       "<Figure size 432x288 with 1 Axes>"
      ]
     },
     "metadata": {
      "needs_background": "light"
     },
     "output_type": "display_data"
    },
    {
     "data": {
      "image/png": "[encoded data removed]",
      "text/plain": [
       "<Figure size 432x288 with 1 Axes>"
      ]
     },
     "metadata": {
      "needs_background": "light"
     },
     "output_type": "display_data"
    },
    {
     "name": "stdout",
     "output_type": "stream",
     "text": [
      "-------------------------\n",
      "\n"
     ]
    }
   ],
   "source": [
    "sentences = corpus\n",
    "window_sizes = [3, 5, 7]\n",
    "dims = [50, 100, 300]\n",
    "window_sizes = [5]\n",
    "dims = [100]\n",
    "for dim in dims:\n",
    "    for window in window_sizes:\n",
    "        print(dim, window)\n",
    "        print('+++++++++++++++++++++++++')\n",
    "#         model = gensim.models.Word2Vec(sentences=sentences, min_count=1, window=window, size=dim)\n",
    "        model = gensim.models.Word2Vec(min_count=1, window=window, size=dim)\n",
    "        model.build_vocab(sentences)\n",
    "        model.train(sentences, total_examples=1, epochs=20)\n",
    "        new_vecs = np.array(list(map(lambda x: one_doc_to_vec(x, model), corpus.docs)))\n",
    "        evaluate_vectors(new_vecs, limit=6000, verbose=False)\n",
    "        print('-------------------------\\n')"
   ]
  },
  {
   "cell_type": "code",
   "execution_count": null,
   "metadata": {},
   "outputs": [],
   "source": []
  }
 ],
 "metadata": {
  "kernelspec": {
   "display_name": "Python 3",
   "language": "python",
   "name": "python3"
  },
  "language_info": {
   "codemirror_mode": {
    "name": "ipython",
    "version": 3
   },
   "file_extension": ".py",
   "mimetype": "text/x-python",
   "name": "python",
   "nbconvert_exporter": "python",
   "pygments_lexer": "ipython3",
   "version": "3.8.2"
  }
 },
 "nbformat": 4,
 "nbformat_minor": 2
}
