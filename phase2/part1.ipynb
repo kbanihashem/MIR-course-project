{
 "cells": [
  {
   "cell_type": "code",
   "execution_count": 1,
   "metadata": {},
   "outputs": [],
   "source": [
    "from corpus import Corpus\n",
    "import numpy as np\n",
    "import matplotlib.pyplot as plt"
   ]
  },
  {
   "cell_type": "code",
   "execution_count": 2,
   "metadata": {},
   "outputs": [],
   "source": [
    "corpus = Corpus.from_file('data/train.json')"
   ]
  },
  {
   "cell_type": "code",
   "execution_count": 3,
   "metadata": {},
   "outputs": [],
   "source": [
    "corpus.build_vectors()"
   ]
  },
  {
   "cell_type": "code",
   "execution_count": 4,
   "metadata": {},
   "outputs": [],
   "source": [
    "corpus.build_np_vecs()"
   ]
  },
  {
   "cell_type": "markdown",
   "metadata": {},
   "source": [
    "# new KNN"
   ]
  },
  {
   "cell_type": "code",
   "execution_count": 5,
   "metadata": {},
   "outputs": [],
   "source": [
    "from k_eval import KNN_cosine, KNN_euclid"
   ]
  },
  {
   "cell_type": "code",
   "execution_count": 10,
   "metadata": {},
   "outputs": [],
   "source": [
    "limit = None\n",
    "knn_cosine = KNN_cosine(corpus, limit=limit)\n",
    "knn_euclid = KNN_euclid(corpus, limit=limit)\n",
    "knns = {'cosine': knn_cosine, 'euclid': knn_euclid}"
   ]
  },
  {
   "cell_type": "code",
   "execution_count": 11,
   "metadata": {},
   "outputs": [
    {
     "name": "stdout",
     "output_type": "stream",
     "text": [
      "cosine, 1:\n",
      "accuracy: 0.847\n",
      "confusion matrix:\n",
      "  [[649  37  54  42]\n",
      " [ 24 685  18  20]\n",
      " [ 46  15 610  91]\n",
      " [ 31  13  68 597]]\n",
      "macro averaged f1:  0.84691729972222\n",
      "precision:  [0.82992327 0.91700134 0.80052493 0.84203103]\n",
      "recall:  [0.86533333 0.91333333 0.81333333 0.796     ]\n",
      "total time: 168.96778416633606\n",
      "\n",
      "cosine, 3:\n",
      "accuracy: 0.8613333333333333\n",
      "confusion matrix:\n",
      "  [[646  19  45  44]\n",
      " [ 30 707  21  18]\n",
      " [ 44  13 620  77]\n",
      " [ 30  11  64 611]]\n",
      "macro averaged f1:  0.8609192130745994\n",
      "precision:  [0.85676393 0.91108247 0.82228117 0.85335196]\n",
      "recall:  [0.86133333 0.94266667 0.82666667 0.81466667]\n",
      "total time: 273.47971391677856\n",
      "\n",
      "cosine, 5:\n",
      "accuracy: 0.8686666666666667\n",
      "confusion matrix:\n",
      "  [[652  15  39  39]\n",
      " [ 32 716  22  16]\n",
      " [ 42  12 621  78]\n",
      " [ 24   7  68 617]]\n",
      "macro averaged f1:  0.8681565057565382\n",
      "precision:  [0.87516779 0.91094148 0.8247012  0.86173184]\n",
      "recall:  [0.86933333 0.95466667 0.828      0.82266667]\n",
      "total time: 264.7202949523926\n",
      "\n",
      "euclid, 1:\n",
      "accuracy: 0.567\n",
      "confusion matrix:\n",
      "  [[705 432 342 361]\n",
      " [ 15 295   2   1]\n",
      " [ 15  11 353  40]\n",
      " [ 15  12  53 348]]\n",
      "macro averaged f1:  0.5735503439395098\n",
      "precision:  [0.38315217 0.94249201 0.8424821  0.81308411]\n",
      "recall:  [0.94       0.39333333 0.47066667 0.464     ]\n",
      "total time: 252.4857280254364\n",
      "\n",
      "euclid, 3:\n",
      "accuracy: 0.4876666666666667\n",
      "confusion matrix:\n",
      "  [[728 558 437 447]\n",
      " [ 10 186   0   0]\n",
      " [  6   3 276  30]\n",
      " [  6   3  37 273]]\n",
      "macro averaged f1:  0.4802330964846637\n",
      "precision:  [0.33548387 0.94897959 0.87619048 0.85579937]\n",
      "recall:  [0.97066667 0.248      0.368      0.364     ]\n",
      "total time: 266.6216220855713\n",
      "\n",
      "euclid, 5:\n",
      "accuracy: 0.4676666666666667\n",
      "confusion matrix:\n",
      "  [[733 587 472 462]\n",
      " [  6 160   0   0]\n",
      " [  8   1 243  21]\n",
      " [  3   2  35 267]]\n",
      "macro averaged f1:  0.45440941912741517\n",
      "precision:  [0.32519965 0.96385542 0.89010989 0.86970684]\n",
      "recall:  [0.97733333 0.21333333 0.324      0.356     ]\n",
      "total time: 236.06807613372803\n",
      "\n"
     ]
    }
   ],
   "source": [
    "import time\n",
    "log = dict()\n",
    "success = dict()\n",
    "for name, knn in knns.items():\n",
    "    knn.set_valid('data/validation.json')\n",
    "    for k in [1, 3, 5]:\n",
    "        knn.parameters['k'] = k\n",
    "        t0 = time.time()\n",
    "        log[(name, k)] = knn.evaluate()\n",
    "        success[(name, k)] = knn.accuracy\n",
    "        t1 = time.time()\n",
    "        total = t1 - t0\n",
    "        print(f\"{name}, {k}:\")\n",
    "        print(f\"accuracy: {knn.accuracy}\")\n",
    "        print(\"confusion matrix:\\n \", knn.confusion_matrix)\n",
    "        print(\"macro averaged f1: \", knn.macro_averaged_f1)\n",
    "        print(\"precision: \", knn.precision)\n",
    "        print(\"recall: \", knn.recall)\n",
    "        print(f\"total time: {total}\")\n",
    "        print()"
   ]
  },
  {
   "cell_type": "code",
   "execution_count": 13,
   "metadata": {},
   "outputs": [
    {
     "data": {
      "text/plain": [
       "{'cosine': 5, 'euclid': 1}"
      ]
     },
     "execution_count": 13,
     "metadata": {},
     "output_type": "execute_result"
    }
   ],
   "source": [
    "best_k = dict()\n",
    "for name, knn in knns.items():\n",
    "    best_k[name] = max([1, 3, 5], key=lambda k: success[(name, k)])\n",
    "best_k"
   ]
  },
  {
   "cell_type": "markdown",
   "metadata": {},
   "source": [
    "# Naive "
   ]
  },
  {
   "cell_type": "code",
   "execution_count": 11,
   "metadata": {},
   "outputs": [],
   "source": [
    "corpus.build_naive()"
   ]
  },
  {
   "cell_type": "code",
   "execution_count": 12,
   "metadata": {},
   "outputs": [],
   "source": [
    "from k_eval import Naive_classifier\n",
    "bayes = Naive_classifier(corpus)"
   ]
  },
  {
   "cell_type": "code",
   "execution_count": 13,
   "metadata": {},
   "outputs": [],
   "source": [
    "bayes.set_valid('data/validation.json')"
   ]
  },
  {
   "cell_type": "code",
   "execution_count": 14,
   "metadata": {},
   "outputs": [
    {
     "name": "stdout",
     "output_type": "stream",
     "text": [
      "alpha: 0.31622776601683794\n",
      "accuracy: 0.8973333333333333\n",
      "confusion matrix:\n",
      "  [[666   9  32  29]\n",
      " [ 28 735   9   7]\n",
      " [ 29   2 626  49]\n",
      " [ 27   4  83 665]]\n",
      "macro averaged f1:  0.8968796140631351\n",
      "precision:  [0.9048913  0.94351733 0.88668555 0.85365854]\n",
      "recall:  [0.888      0.98       0.83466667 0.88666667]\n",
      "\n",
      "alpha: 3.1622776601683795\n",
      "accuracy: 0.8916666666666667\n",
      "confusion matrix:\n",
      "  [[672   9  36  39]\n",
      " [ 29 737  12  11]\n",
      " [ 28   1 623  57]\n",
      " [ 21   3  79 643]]\n",
      "macro averaged f1:  0.8909575813183199\n",
      "precision:  [0.88888889 0.93409379 0.8787024  0.86193029]\n",
      "recall:  [0.896      0.98266667 0.83066667 0.85733333]\n",
      "\n",
      "alpha: 10.0\n",
      "accuracy: 0.8803333333333333\n",
      "confusion matrix:\n",
      "  [[669  11  39  44]\n",
      " [ 33 731  15  15]\n",
      " [ 27   3 618  68]\n",
      " [ 21   5  78 623]]\n",
      "macro averaged f1:  0.8794848372484898\n",
      "precision:  [0.8768021  0.92065491 0.86312849 0.85694635]\n",
      "recall:  [0.892      0.97466667 0.824      0.83066667]\n",
      "\n"
     ]
    },
    {
     "data": {
      "text/plain": [
       "4.521580934524536"
      ]
     },
     "execution_count": 14,
     "metadata": {},
     "output_type": "execute_result"
    }
   ],
   "source": [
    "alphas_being_tested = 10**np.array([-0.5, 0.5, 1])\n",
    "import time\n",
    "t0 = time.time()\n",
    "score = []\n",
    "log = []\n",
    "for alpha in alphas_being_tested:\n",
    "    bayes.parameters['alpha'] = alpha\n",
    "    bayes.evaluate()\n",
    "    log.append(bayes.log)\n",
    "    score.append(bayes.accuracy)\n",
    "    print(f\"alpha: {alpha}\")\n",
    "    print(f\"accuracy: {bayes.accuracy}\")\n",
    "    print(\"confusion matrix:\\n \", bayes.confusion_matrix)\n",
    "    print(\"macro averaged f1: \", bayes.macro_averaged_f1)\n",
    "    print(\"precision: \", bayes.precision)\n",
    "    print(\"recall: \", bayes.recall)\n",
    "    print()\n",
    "t1 = time.time()\n",
    "\n",
    "total = t1-t0\n",
    "total"
   ]
  },
  {
   "cell_type": "code",
   "execution_count": 15,
   "metadata": {},
   "outputs": [
    {
     "data": {
      "image/png": "[encoded data removed]",
      "text/plain": [
       "<Figure size 432x288 with 1 Axes>"
      ]
     },
     "metadata": {
      "needs_background": "light"
     },
     "output_type": "display_data"
    },
    {
     "data": {
      "text/plain": [
       "(0, 0.31622776601683794, -0.5)"
      ]
     },
     "execution_count": 15,
     "metadata": {},
     "output_type": "execute_result"
    }
   ],
   "source": [
    "score = np.array(score)\n",
    "plt.plot(np.log10(alphas_being_tested), score)\n",
    "plt.show()\n",
    "best_index = np.argmax(score)\n",
    "best_alpha = alphas_being_tested[best_index]\n",
    "(\n",
    "    best_index,\n",
    "    best_alpha,\n",
    "    np.log10(best_alpha),\n",
    ")"
   ]
  },
  {
   "cell_type": "markdown",
   "metadata": {},
   "source": [
    "# nltk"
   ]
  },
  {
   "cell_type": "code",
   "execution_count": 16,
   "metadata": {},
   "outputs": [],
   "source": [
    "from corpus import Corpus\n",
    "import numpy as np\n",
    "import matplotlib.pyplot as plt"
   ]
  },
  {
   "cell_type": "code",
   "execution_count": 17,
   "metadata": {},
   "outputs": [],
   "source": [
    "from k_eval import Naive_classifier, KNN_cosine\n",
    "from helper import k_stemm, k_lemm, remove_stopwords\n",
    "import time"
   ]
  },
  {
   "cell_type": "code",
   "execution_count": 18,
   "metadata": {},
   "outputs": [
    {
     "name": "stdout",
     "output_type": "stream",
     "text": [
      "starting building corpus for naive bayes, Nothing\n",
      "starting naive bayes, Nothing\n",
      "Results: 0.8973333333333333% (exact number is 2692)\n",
      "confusion matrix:\n",
      "  [[671   9  32  31]\n",
      " [ 28 735   8   9]\n",
      " [ 28   2 625  49]\n",
      " [ 23   4  85 661]]\n",
      "macro averaged f1:  0.8968416726958659\n",
      "precision:  [0.90309556 0.94230769 0.88778409 0.85510996]\n",
      "recall:  [0.89466667 0.98       0.83333333 0.88133333]\n",
      "\n",
      "total time: 6.363862991333008s\n",
      "\n",
      "starting building corpus for naive bayes, stopword removal\n",
      "starting naive bayes, stopword removal\n",
      "Results: 0.8993333333333333% (exact number is 2698)\n",
      "confusion matrix:\n",
      "  [[670   7  33  31]\n",
      " [ 26 738   9   5]\n",
      " [ 30   0 626  50]\n",
      " [ 24   5  82 664]]\n",
      "macro averaged f1:  0.8988510139666934\n",
      "precision:  [0.90418354 0.94858612 0.88668555 0.85677419]\n",
      "recall:  [0.89333333 0.984      0.83466667 0.88533333]\n",
      "\n",
      "total time: 16.9707510471344s\n",
      "\n",
      "starting building corpus for naive bayes, lemmatizing\n",
      "starting naive bayes, lemmatizing\n",
      "Results: 0.8986666666666666% (exact number is 2696)\n",
      "confusion matrix:\n",
      "  [[671   7  32  31]\n",
      " [ 27 738  11  10]\n",
      " [ 28   1 625  47]\n",
      " [ 24   4  82 662]]\n",
      "macro averaged f1:  0.8980968574461018\n",
      "precision:  [0.90553306 0.9389313  0.89158345 0.85751295]\n",
      "recall:  [0.89466667 0.984      0.83333333 0.88266667]\n",
      "\n",
      "total time: 13.172708988189697s\n",
      "\n",
      "starting building corpus for naive bayes, stemming\n",
      "starting naive bayes, stemming\n",
      "Results: 0.8953333333333333% (exact number is 2686)\n",
      "confusion matrix:\n",
      "  [[672   9  31  29]\n",
      " [ 26 733  12  11]\n",
      " [ 26   2 625  54]\n",
      " [ 26   6  82 656]]\n",
      "macro averaged f1:  0.894853163315669\n",
      "precision:  [0.90688259 0.93734015 0.88401697 0.85194805]\n",
      "recall:  [0.896      0.97733333 0.83333333 0.87466667]\n",
      "\n",
      "total time: 26.988282918930054s\n",
      "\n",
      "starting building corpus for knn cosine 5, Nothing\n",
      "starting knn cosine 5, Nothing\n",
      "Results: 0.8686666666666667% (exact number is 2606)\n",
      "confusion matrix:\n",
      "  [[652  15  39  39]\n",
      " [ 32 716  22  16]\n",
      " [ 42  12 621  78]\n",
      " [ 24   7  68 617]]\n",
      "macro averaged f1:  0.8681565057565382\n",
      "precision:  [0.87516779 0.91094148 0.8247012  0.86173184]\n",
      "recall:  [0.86933333 0.95466667 0.828      0.82266667]\n",
      "\n",
      "total time: 154.59010696411133s\n",
      "\n",
      "starting building corpus for knn cosine 5, stopword removal\n",
      "starting knn cosine 5, stopword removal\n",
      "Results: 0.8673333333333333% (exact number is 2602)\n",
      "confusion matrix:\n",
      "  [[653  14  40  42]\n",
      " [ 29 715  21  15]\n",
      " [ 42  13 624  83]\n",
      " [ 26   8  65 610]]\n",
      "macro averaged f1:  0.8668685043174258\n",
      "precision:  [0.87182911 0.91666667 0.81889764 0.86036671]\n",
      "recall:  [0.87066667 0.95333333 0.832      0.81333333]\n",
      "\n",
      "total time: 161.13205409049988s\n",
      "\n",
      "starting building corpus for knn cosine 5, lemmatizing\n",
      "starting knn cosine 5, lemmatizing\n",
      "Results: 0.8706666666666667% (exact number is 2612)\n",
      "confusion matrix:\n",
      "  [[653  15  41  32]\n",
      " [ 30 717  24  15]\n",
      " [ 41  11 617  78]\n",
      " [ 26   7  68 625]]\n",
      "macro averaged f1:  0.8701786789904348\n",
      "precision:  [0.88124157 0.91221374 0.82597055 0.86088154]\n",
      "recall:  [0.87066667 0.956      0.82266667 0.83333333]\n",
      "\n",
      "total time: 147.13473081588745s\n",
      "\n",
      "starting building corpus for knn cosine 5, stemming\n",
      "starting knn cosine 5, stemming\n",
      "Results: 0.8693333333333333% (exact number is 2608)\n",
      "confusion matrix:\n",
      "  [[646  14  43  33]\n",
      " [ 29 712   8  15]\n",
      " [ 43  14 622  74]\n",
      " [ 32  10  77 628]]\n",
      "macro averaged f1:  0.869173084532547\n",
      "precision:  [0.87771739 0.93193717 0.82602922 0.84069612]\n",
      "recall:  [0.86133333 0.94933333 0.82933333 0.83733333]\n",
      "\n",
      "total time: 123.09926509857178s\n",
      "\n"
     ]
    }
   ],
   "source": [
    "models = {\n",
    "    'naive bayes': Naive_classifier(corpus=None, alpha=0.5),\n",
    "    'knn cosine 5': KNN_cosine(corpus=None, k=5),\n",
    "}\n",
    "funcs_to_test = {\n",
    "    'Nothing': None,\n",
    "    'stopword removal': remove_stopwords,\n",
    "    'lemmatizing': k_lemm,\n",
    "    'stemming': k_stemm,\n",
    "}\n",
    "\n",
    "for model_name, model in models.items():\n",
    "    for func_name, func in funcs_to_test.items():\n",
    "        t0 = time.time()\n",
    "        print(f\"starting building corpus for {model_name}, {func_name}\")\n",
    "        pipeline = [func] if func is not None else []\n",
    "        corpus = Corpus.from_file('data/train.json', pipeline=pipeline)\n",
    "        model.corpus = corpus\n",
    "        model.corpus_limit = len(corpus.docs)\n",
    "        model.pre_build()\n",
    "        model.set_valid('data/validation.json')\n",
    "        print(f\"starting {model_name}, {func_name}\")\n",
    "        model.evaluate()\n",
    "        print(f\"Results: {sum(model.log)/3000}% (exact number is {sum(model.log)})\")\n",
    "        print(\"confusion matrix:\\n \", model.confusion_matrix)\n",
    "        print(\"macro averaged f1: \", model.macro_averaged_f1)\n",
    "        print(\"precision: \", model.precision)\n",
    "        print(\"recall: \", model.recall)\n",
    "        print()\n",
    "        \n",
    "        t1 = time.time()\n",
    "        total_time = t1 - t0\n",
    "        print(f\"total time: {total_time}s\")\n",
    "        print()"
   ]
  },
  {
   "cell_type": "markdown",
   "metadata": {},
   "source": [
    "##### It is clear that for naive bayes, stopword removal and lemmatizing help while stemming hurts.\n",
    "##### For naive bayes, the best action is stopword removal and the worst action is stemming\n",
    "##### For knn, stopword removal hurts while stemming and lemmatizing help.\n",
    "##### For knn, the best action is lemmaitzing and the worst action is stopword removal"
   ]
  },
  {
   "cell_type": "markdown",
   "metadata": {},
   "source": [
    "# Testing for accuracy"
   ]
  },
  {
   "cell_type": "code",
   "execution_count": 4,
   "metadata": {},
   "outputs": [],
   "source": [
    "from corpus import Corpus\n",
    "import numpy as np\n",
    "import matplotlib.pyplot as plt"
   ]
  },
  {
   "cell_type": "code",
   "execution_count": 5,
   "metadata": {},
   "outputs": [],
   "source": [
    "from k_eval import Naive_classifier, KNN_cosine\n",
    "from helper import k_stemm, k_lemm, remove_stopwords\n",
    "import time"
   ]
  },
  {
   "cell_type": "code",
   "execution_count": 12,
   "metadata": {},
   "outputs": [
    {
     "name": "stdout",
     "output_type": "stream",
     "text": [
      "starting building corpus for naive bayes, 0\n",
      "starting naive bayes, 0\n",
      "Results: 0.8976666666666666% (exact number is 2693)\n",
      "total time: 41.231207847595215s\n",
      "\n",
      "starting building corpus for naive bayes, 1\n",
      "starting naive bayes, 1\n",
      "Results: 0.8976666666666666% (exact number is 2693)\n",
      "total time: 5.336704969406128s\n",
      "\n",
      "starting building corpus for naive bayes, 2\n",
      "starting naive bayes, 2\n",
      "Results: 0.9006666666666666% (exact number is 2702)\n",
      "total time: 14.680576086044312s\n",
      "\n",
      "starting building corpus for naive bayes, 3\n",
      "starting naive bayes, 3\n",
      "Results: 0.8976666666666666% (exact number is 2693)\n",
      "total time: 4.8275182247161865s\n",
      "\n",
      "starting building corpus for naive bayes, 4\n",
      "starting naive bayes, 4\n",
      "Results: 0.901% (exact number is 2703)\n",
      "total time: 18.44096612930298s\n",
      "\n",
      "starting building corpus for naive bayes, 5\n",
      "starting naive bayes, 5\n",
      "Results: 0.8976666666666666% (exact number is 2693)\n",
      "total time: 4.6696248054504395s\n",
      "\n",
      "starting building corpus for naive bayes, 6\n",
      "starting naive bayes, 6\n",
      "Results: 0.9006666666666666% (exact number is 2702)\n",
      "total time: 13.92932391166687s\n",
      "\n",
      "starting building corpus for naive bayes, 7\n",
      "starting naive bayes, 7\n",
      "Results: 0.8976666666666666% (exact number is 2693)\n",
      "total time: 4.622152090072632s\n",
      "\n"
     ]
    }
   ],
   "source": [
    "models = {\n",
    "    'naive bayes': Naive_classifier(corpus=None, alpha=0.3),\n",
    "}\n",
    "funcs_to_test = {\n",
    "    'stopword removal': remove_stopwords,\n",
    "    'lemmatizing': k_lemm,\n",
    "    'stemming': k_stemm,\n",
    "}\n",
    "\n",
    "def kiarash():\n",
    "    def convert_to_pipe(num):\n",
    "        pipeline = []\n",
    "        if num % 2 == 0:\n",
    "            pipeline.append(remove_stopwords)\n",
    "        if (num / 2) % 2 == 0:\n",
    "            pipeline.append(k_lemm)\n",
    "        if (num / 4) % 2 == 0:\n",
    "            pipeline.append(k_stemm)\n",
    "        return pipeline\n",
    "    return ((num, convert_to_pipe(num)) for num in range(8))\n",
    "\n",
    "for model_name, model in models.items():\n",
    "    for func_name, pipeline in kiarash():\n",
    "        t0 = time.time()\n",
    "        print(f\"starting building corpus for {model_name}, {func_name}\")\n",
    "        corpus = Corpus.from_file('data/train.json', pipeline=pipeline)\n",
    "        model.corpus = corpus\n",
    "        model.corpus_limit = len(corpus.docs)\n",
    "        model.pre_build()\n",
    "        model.set_valid('data/validation.json')\n",
    "        print(f\"starting {model_name}, {func_name}\")\n",
    "        model.evaluate()\n",
    "        print(f\"Results: {sum(model.log)/3000}% (exact number is {sum(model.log)})\")\n",
    "        t1 = time.time()\n",
    "        total_time = t1 - t0\n",
    "        print(f\"total time: {total_time}s\")\n",
    "        print()"
   ]
  },
  {
   "cell_type": "markdown",
   "metadata": {},
   "source": [
    "# SVM and Random forest"
   ]
  },
  {
   "cell_type": "markdown",
   "metadata": {},
   "source": [
    "### SVM"
   ]
  },
  {
   "cell_type": "code",
   "execution_count": 1,
   "metadata": {},
   "outputs": [],
   "source": [
    "from corpus import Corpus\n",
    "import numpy as np\n",
    "import matplotlib.pyplot as plt\n",
    "from svm import SVM, Forest\n",
    "import time"
   ]
  },
  {
   "cell_type": "code",
   "execution_count": 2,
   "metadata": {},
   "outputs": [],
   "source": [
    "corpus = Corpus.from_file('data/train.json')\n",
    "corpus.build_vectors()\n",
    "corpus.build_np_vecs()"
   ]
  },
  {
   "cell_type": "code",
   "execution_count": 3,
   "metadata": {},
   "outputs": [],
   "source": [
    "svm = SVM(corpus)\n",
    "svm.set_valid('data/validation.json')\n",
    "svm.build_valid()"
   ]
  },
  {
   "cell_type": "code",
   "execution_count": 18,
   "metadata": {},
   "outputs": [
    {
     "name": "stdout",
     "output_type": "stream",
     "text": [
      "building with {'C': 0.0001}\n",
      "time: 9.916143894195557\n",
      "C=0.0001 -> success: 0.88\n",
      "2.076213836669922\n",
      "building with {'C': 0.001}\n",
      "time: 8.398204326629639\n",
      "C=0.001 -> success: 0.88\n",
      "1.8980259895324707\n",
      "building with {'C': 0.01}\n",
      "time: 8.484028100967407\n",
      "C=0.01 -> success: 0.88\n",
      "2.1968557834625244\n",
      "building with {'C': 0.1}\n",
      "time: 10.374689102172852\n",
      "C=0.1 -> success: 0.87\n",
      "2.2038352489471436\n",
      "best C:  0.001\n"
     ]
    }
   ],
   "source": [
    "all_results = dict()\n",
    "for C in [0.0001, 0.001, 0.01, 0.1]:\n",
    "    t0 = time.time()\n",
    "    svm.corpus_limit = 5000\n",
    "    svm.parameters['C'] = C\n",
    "    svm.fit_corpus()\n",
    "    t1 = time.time()\n",
    "    total = t1 - t0\n",
    "    print(f\"time: {total}\")\n",
    "    t0 = time.time()\n",
    "    log = svm.evaluate()\n",
    "    success = sum(log) / 3000\n",
    "    print(f\"C={C} -> success: {success:.2f}\")\n",
    "    all_results[C] = success\n",
    "    t1 = time.time()\n",
    "    total = t1 - t0\n",
    "    print(total)\n",
    "best_index = max(all_results, key=all_results.get)\n",
    "print(\"best C: \", best_index)"
   ]
  },
  {
   "cell_type": "markdown",
   "metadata": {},
   "source": [
    "### random forest"
   ]
  },
  {
   "cell_type": "code",
   "execution_count": 5,
   "metadata": {},
   "outputs": [],
   "source": [
    "from corpus import Corpus\n",
    "import numpy as np\n",
    "import matplotlib.pyplot as plt\n",
    "from svm import SVM, Forest\n",
    "import time"
   ]
  },
  {
   "cell_type": "code",
   "execution_count": 6,
   "metadata": {},
   "outputs": [],
   "source": [
    "corpus = Corpus.from_file('data/train.json')\n",
    "corpus.build_vectors()\n",
    "corpus.build_np_vecs()"
   ]
  },
  {
   "cell_type": "code",
   "execution_count": 7,
   "metadata": {},
   "outputs": [],
   "source": [
    "forest = Forest(corpus)\n",
    "forest.set_valid('data/validation.json')\n",
    "forest.build_valid()"
   ]
  },
  {
   "cell_type": "code",
   "execution_count": 8,
   "metadata": {},
   "outputs": [
    {
     "name": "stdout",
     "output_type": "stream",
     "text": [
      "building with {'tree_count': 50, 'max_depth': 5}\n",
      "time: 17.881738901138306\n",
      "count, depth=(50, 5) -> success: 0.68\n",
      "3.3157081604003906\n",
      "building with {'tree_count': 50, 'max_depth': 10}\n",
      "time: 25.568049907684326\n",
      "count, depth=(50, 10) -> success: 0.72\n",
      "3.665930986404419\n",
      "building with {'tree_count': 50, 'max_depth': 25}\n",
      "time: 47.143261194229126\n",
      "count, depth=(50, 25) -> success: 0.78\n",
      "3.2599852085113525\n",
      "building with {'tree_count': 100, 'max_depth': 5}\n",
      "time: 25.5873441696167\n",
      "count, depth=(100, 5) -> success: 0.72\n",
      "2.372556209564209\n",
      "building with {'tree_count': 100, 'max_depth': 10}\n",
      "time: 35.37496829032898\n",
      "count, depth=(100, 10) -> success: 0.76\n",
      "2.765584945678711\n",
      "building with {'tree_count': 100, 'max_depth': 25}\n",
      "time: 65.547208070755\n",
      "count, depth=(100, 25) -> success: 0.80\n",
      "3.4117918014526367\n",
      "building with {'tree_count': 250, 'max_depth': 5}\n",
      "time: 41.387529134750366\n",
      "count, depth=(250, 5) -> success: 0.76\n",
      "2.991424083709717\n",
      "building with {'tree_count': 250, 'max_depth': 10}\n",
      "time: 70.19181489944458\n",
      "count, depth=(250, 10) -> success: 0.79\n",
      "2.921191930770874\n",
      "building with {'tree_count': 250, 'max_depth': 25}\n",
      "time: 181.1814320087433\n",
      "count, depth=(250, 25) -> success: 0.81\n",
      "3.1666600704193115\n"
     ]
    }
   ],
   "source": [
    "all_logs = dict()\n",
    "for tree_count in [50, 100, 250]:\n",
    "    for max_depth in [5, 10, 25]:\n",
    "        params = (tree_count, max_depth)\n",
    "        t0 = time.time()\n",
    "        forest.corpus_limit = 5000\n",
    "        forest.parameters['tree_count'] = tree_count\n",
    "        forest.parameters['max_depth'] = max_depth\n",
    "        forest.fit_corpus()\n",
    "        t1 = time.time()\n",
    "        total = t1 - t0\n",
    "        print(f\"time: {total}\")\n",
    "        t0 = time.time()\n",
    "        log = forest.evaluate()\n",
    "        success = sum(log) / 3000\n",
    "        print(f\"count, depth={params} -> success: {success:.2f}\")\n",
    "        all_logs[params] = success\n",
    "        t1 = time.time()\n",
    "        total = t1 - t0\n",
    "        print(total)"
   ]
  },
  {
   "cell_type": "code",
   "execution_count": 9,
   "metadata": {},
   "outputs": [
    {
     "name": "stdout",
     "output_type": "stream",
     "text": [
      "best count, depth:  (250, 25)\n"
     ]
    }
   ],
   "source": [
    "best_index = max(all_logs, key=all_logs.get)\n",
    "print(\"best count, depth: \", best_index)"
   ]
  },
  {
   "cell_type": "code",
   "execution_count": null,
   "metadata": {},
   "outputs": [],
   "source": []
  }
 ],
 "metadata": {
  "kernelspec": {
   "display_name": "Python 3",
   "language": "python",
   "name": "python3"
  },
  "language_info": {
   "codemirror_mode": {
    "name": "ipython",
    "version": 3
   },
   "file_extension": ".py",
   "mimetype": "text/x-python",
   "name": "python",
   "nbconvert_exporter": "python",
   "pygments_lexer": "ipython3",
   "version": "3.8.2"
  }
 },
 "nbformat": 4,
 "nbformat_minor": 2
}
