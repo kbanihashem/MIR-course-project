{
 "cells": [
  {
   "cell_type": "code",
   "execution_count": 10,
   "metadata": {},
   "outputs": [],
   "source": [
    "from corpus import Corpus\n",
    "import numpy as np\n",
    "import matplotlib.pyplot as plt"
   ]
  },
  {
   "cell_type": "code",
   "execution_count": 2,
   "metadata": {},
   "outputs": [],
   "source": [
    "corpus = Corpus.from_file('data/train.json')"
   ]
  },
  {
   "cell_type": "code",
   "execution_count": 3,
   "metadata": {},
   "outputs": [],
   "source": [
    "corpus.build_vectors()"
   ]
  },
  {
   "cell_type": "code",
   "execution_count": 4,
   "metadata": {},
   "outputs": [],
   "source": [
    "corpus.build_np_vecs()"
   ]
  },
  {
   "cell_type": "markdown",
   "metadata": {},
   "source": [
    "# new KNN"
   ]
  },
  {
   "cell_type": "code",
   "execution_count": 8,
   "metadata": {},
   "outputs": [],
   "source": [
    "from k_eval import KNN_cosine, KNN_euclid"
   ]
  },
  {
   "cell_type": "code",
   "execution_count": 21,
   "metadata": {},
   "outputs": [],
   "source": [
    "limit = None\n",
    "knn_cosine = KNN_cosine(corpus, limit=limit)\n",
    "knn_euclid = KNN_euclid(corpus, limit=limit)\n",
    "knns = {'cosine': knn_cosine, 'euclid': knn_euclid}"
   ]
  },
  {
   "cell_type": "code",
   "execution_count": 22,
   "metadata": {},
   "outputs": [
    {
     "name": "stdout",
     "output_type": "stream",
     "text": [
      "cosine, 1: 0.847.\t limit=None, time=155.67932105064392\n",
      "cosine, 3: 0.8613333333333333.\t limit=None, time=155.6478750705719\n",
      "cosine, 5: 0.8686666666666667.\t limit=None, time=151.71014213562012\n",
      "euclid, 1: 0.742.\t limit=None, time=160.54853987693787\n",
      "euclid, 3: 0.7323333333333333.\t limit=None, time=160.8194601535797\n",
      "euclid, 5: 0.725.\t limit=None, time=274.2830789089203\n"
     ]
    }
   ],
   "source": [
    "import time\n",
    "log = dict()\n",
    "success = dict()\n",
    "for name, knn in knns.items():\n",
    "    knn.set_valid('data/validation.json')\n",
    "    for k in [1, 3, 5]:\n",
    "        knn.parameters['k'] = k\n",
    "        t0 = time.time()\n",
    "        log[(name, k)] = knn.evaluate()\n",
    "        success[(name, k)] = sum(log[(name, k)]) / 3000\n",
    "        t1 = time.time()\n",
    "        total = t1 - t0\n",
    "        print(f\"{name}, {k}: {success[(name, k)]}.\\t limit={limit}, time={total}\")"
   ]
  },
  {
   "cell_type": "code",
   "execution_count": 23,
   "metadata": {},
   "outputs": [
    {
     "data": {
      "text/plain": [
       "{'cosine': 5, 'euclid': 1}"
      ]
     },
     "execution_count": 23,
     "metadata": {},
     "output_type": "execute_result"
    }
   ],
   "source": [
    "best_k = dict()\n",
    "for name, knn in knns.items():\n",
    "    best_k[name] = max([1, 3, 5], key=lambda k: success[(name, k)])\n",
    "best_k"
   ]
  },
  {
   "cell_type": "markdown",
   "metadata": {},
   "source": [
    "# Naive "
   ]
  },
  {
   "cell_type": "code",
   "execution_count": 4,
   "metadata": {},
   "outputs": [],
   "source": [
    "corpus.build_naive()"
   ]
  },
  {
   "cell_type": "code",
   "execution_count": 6,
   "metadata": {},
   "outputs": [],
   "source": [
    "from k_eval import Naive_classifier\n",
    "bayes = Naive_classifier(corpus)"
   ]
  },
  {
   "cell_type": "code",
   "execution_count": 8,
   "metadata": {},
   "outputs": [],
   "source": [
    "bayes.set_valid('data/validation.json')"
   ]
  },
  {
   "cell_type": "code",
   "execution_count": 26,
   "metadata": {},
   "outputs": [
    {
     "name": "stdout",
     "output_type": "stream",
     "text": [
      "alpha: 1e-05, score: 0.8763333333333333\n",
      "alpha: 2.3357214690901213e-05, score: 0.8783333333333333\n",
      "alpha: 5.4555947811685143e-05, score: 0.881\n",
      "alpha: 0.00012742749857031334, score: 0.8823333333333333\n",
      "alpha: 0.00029763514416313193, score: 0.8833333333333333\n",
      "alpha: 0.0006951927961775605, score: 0.8873333333333333\n",
      "alpha: 0.001623776739188721, score: 0.8886666666666667\n",
      "alpha: 0.00379269019073225, score: 0.8903333333333333\n",
      "alpha: 0.008858667904100823, score: 0.893\n",
      "alpha: 0.02069138081114788, score: 0.895\n",
      "alpha: 0.04832930238571752, score: 0.8953333333333333\n",
      "alpha: 0.11288378916846883, score: 0.8956666666666667\n",
      "alpha: 0.26366508987303555, score: 0.897\n",
      "alpha: 0.6158482110660255, score: 0.8966666666666666\n",
      "alpha: 1.438449888287663, score: 0.8956666666666667\n",
      "alpha: 3.359818286283781, score: 0.8903333333333333\n",
      "alpha: 7.847599703514607, score: 0.8833333333333333\n",
      "alpha: 18.32980710832434, score: 0.876\n",
      "alpha: 42.81332398719387, score: 0.8646666666666667\n",
      "alpha: 100.0, score: 0.8493333333333334\n"
     ]
    },
    {
     "data": {
      "text/plain": [
       "24.585701942443848"
      ]
     },
     "execution_count": 26,
     "metadata": {},
     "output_type": "execute_result"
    }
   ],
   "source": [
    "alphas_being_tested = 10**np.linspace(-5, 2, 20)\n",
    "import time\n",
    "t0 = time.time()\n",
    "score = []\n",
    "log = []\n",
    "for alpha in alphas_being_tested:\n",
    "    bayes.parameters['alpha'] = alpha\n",
    "    bayes.evaluate()\n",
    "    log.append(bayes.log)\n",
    "    score.append(sum(bayes.log) / 3000)\n",
    "    print(f\"alpha: {alpha}, score: {score[-1]}\")\n",
    "    \n",
    "t1 = time.time()\n",
    "\n",
    "total = t1-t0\n",
    "total"
   ]
  },
  {
   "cell_type": "code",
   "execution_count": 27,
   "metadata": {},
   "outputs": [
    {
     "data": {
      "text/plain": [
       "[0.8763333333333333,\n",
       " 0.8783333333333333,\n",
       " 0.881,\n",
       " 0.8823333333333333,\n",
       " 0.8833333333333333,\n",
       " 0.8873333333333333,\n",
       " 0.8886666666666667,\n",
       " 0.8903333333333333,\n",
       " 0.893,\n",
       " 0.895,\n",
       " 0.8953333333333333,\n",
       " 0.8956666666666667,\n",
       " 0.897,\n",
       " 0.8966666666666666,\n",
       " 0.8956666666666667,\n",
       " 0.8903333333333333,\n",
       " 0.8833333333333333,\n",
       " 0.876,\n",
       " 0.8646666666666667,\n",
       " 0.8493333333333334]"
      ]
     },
     "execution_count": 27,
     "metadata": {},
     "output_type": "execute_result"
    }
   ],
   "source": [
    "scorere"
   ]
  },
  {
   "cell_type": "code",
   "execution_count": 32,
   "metadata": {},
   "outputs": [
    {
     "data": {
      "image/png": "[encoded data removed]",
      "text/plain": [
       "<Figure size 432x288 with 1 Axes>"
      ]
     },
     "metadata": {
      "needs_background": "light"
     },
     "output_type": "display_data"
    },
    {
     "data": {
      "text/plain": [
       "(12, 0.26366508987303555, -0.5789473684210531)"
      ]
     },
     "execution_count": 32,
     "metadata": {},
     "output_type": "execute_result"
    }
   ],
   "source": [
    "score = np.array(score)\n",
    "plt.plot(np.log10(alphas_being_tested), score)\n",
    "plt.show()\n",
    "best_index = np.argmax(score)\n",
    "best_alpha = alphas_being_tested[best_index]\n",
    "(\n",
    "    best_index,\n",
    "    best_alpha,\n",
    "    np.log10(best_alpha),\n",
    ")"
   ]
  },
  {
   "cell_type": "markdown",
   "metadata": {},
   "source": [
    "# nltk"
   ]
  },
  {
   "cell_type": "code",
   "execution_count": 5,
   "metadata": {},
   "outputs": [],
   "source": [
    "from corpus import Corpus\n",
    "import numpy as np\n",
    "import matplotlib.pyplot as plt"
   ]
  },
  {
   "cell_type": "code",
   "execution_count": 13,
   "metadata": {},
   "outputs": [],
   "source": [
    "from k_eval import Naive_classifier, KNN_cosine\n",
    "from helper import k_stemm, k_lemm, remove_stopwords\n",
    "import time"
   ]
  },
  {
   "cell_type": "code",
   "execution_count": 22,
   "metadata": {},
   "outputs": [
    {
     "name": "stdout",
     "output_type": "stream",
     "text": [
      "starting building corpus for knn cosine 5, Nothing\n",
      "starting knn cosine 5, Nothing\n",
      "Results: 0.8686666666666667% (exact number is 2606)\n",
      "total time: 267.15364503860474s\n",
      "\n",
      "starting building corpus for knn cosine 5, stopword removal\n",
      "starting knn cosine 5, stopword removal\n",
      "Results: 0.8673333333333333% (exact number is 2602)\n",
      "total time: 355.4317078590393s\n",
      "\n",
      "starting building corpus for knn cosine 5, lemmatizing\n",
      "starting knn cosine 5, lemmatizing\n",
      "Results: 0.8706666666666667% (exact number is 2612)\n",
      "total time: 274.8412969112396s\n",
      "\n",
      "starting building corpus for knn cosine 5, stemming\n",
      "starting knn cosine 5, stemming\n",
      "Results: 0.8693333333333333% (exact number is 2608)\n",
      "total time: 195.79374599456787s\n",
      "\n",
      "starting building corpus for naive bayes, Nothing\n",
      "starting naive bayes, Nothing\n",
      "Results: 0.8976666666666666% (exact number is 2693)\n",
      "total time: 5.718931198120117s\n",
      "\n",
      "starting building corpus for naive bayes, stopword removal\n",
      "starting naive bayes, stopword removal\n",
      "Results: 0.9006666666666666% (exact number is 2702)\n",
      "total time: 14.363875150680542s\n",
      "\n",
      "starting building corpus for naive bayes, lemmatizing\n",
      "starting naive bayes, lemmatizing\n",
      "Results: 0.899% (exact number is 2697)\n",
      "total time: 9.509660959243774s\n",
      "\n",
      "starting building corpus for naive bayes, stemming\n",
      "starting naive bayes, stemming\n",
      "Results: 0.895% (exact number is 2685)\n",
      "total time: 27.23122787475586s\n",
      "\n"
     ]
    }
   ],
   "source": [
    "models = {\n",
    "    'knn cosine 5': KNN_cosine(corpus=None, k=5),\n",
    "    'naive bayes': Naive_classifier(corpus=None, alpha=0.3),\n",
    "}\n",
    "funcs_to_test = {\n",
    "    'Nothing': None,\n",
    "    'stopword removal': remove_stopwords,\n",
    "    'lemmatizing': k_lemm,\n",
    "    'stemming': k_stemm,\n",
    "}\n",
    "for model_name, model in models.items():\n",
    "    for func_name, func in funcs_to_test.items():\n",
    "        t0 = time.time()\n",
    "        print(f\"starting building corpus for {model_name}, {func_name}\")\n",
    "        pipeline = [func] if func is not None else []\n",
    "        corpus = Corpus.from_file('data/train.json', pipeline=pipeline)\n",
    "        model.corpus = corpus\n",
    "        model.corpus_limit = len(corpus.docs)\n",
    "        model.pre_build()\n",
    "        model.set_valid('data/validation.json')\n",
    "        print(f\"starting {model_name}, {func_name}\")\n",
    "        model.evaluate()\n",
    "        print(f\"Results: {sum(model.log)/3000}% (exact number is {sum(model.log)})\")\n",
    "        t1 = time.time()\n",
    "        total_time = t1 - t0\n",
    "        print(f\"total time: {total_time}s\")\n",
    "        print()"
   ]
  },
  {
   "cell_type": "code",
   "execution_count": null,
   "metadata": {},
   "outputs": [],
   "source": []
  }
 ],
 "metadata": {
  "kernelspec": {
   "display_name": "Python 3",
   "language": "python",
   "name": "python3"
  },
  "language_info": {
   "codemirror_mode": {
    "name": "ipython",
    "version": 3
   },
   "file_extension": ".py",
   "mimetype": "text/x-python",
   "name": "python",
   "nbconvert_exporter": "python",
   "pygments_lexer": "ipython3",
   "version": "3.8.2"
  }
 },
 "nbformat": 4,
 "nbformat_minor": 2
}
